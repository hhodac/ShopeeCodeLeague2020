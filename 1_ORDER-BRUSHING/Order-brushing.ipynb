{
 "cells": [
  {
   "cell_type": "code",
   "execution_count": 126,
   "metadata": {},
   "outputs": [
    {
     "name": "stdout",
     "output_type": "stream",
     "text": [
      "/Users/haiho/ShopeeCodeLeague/ShopeeCodeLeague2020/1_ORDER-BRUSHING/kaggle/input/.DS_Store\n",
      "/Users/haiho/ShopeeCodeLeague/ShopeeCodeLeague2020/1_ORDER-BRUSHING/kaggle/input/order_brush_order.csv\n"
     ]
    }
   ],
   "source": [
    "# This Python 3 environment comes with many helpful analytics libraries installed\n",
    "# It is defined by the kaggle/python Docker image: https://github.com/kaggle/docker-python\n",
    "# For example, here's several helpful packages to load\n",
    "\n",
    "import numpy as np # linear algebra\n",
    "import pandas as pd # data processing, CSV file I/O (e.g. pd.read_csv)\n",
    "\n",
    "# Input data files are available in the read-only \"../input/\" directory\n",
    "# For example, running this (by clicking run or pressing Shift+Enter) will list all files under the input directory\n",
    "\n",
    "import os\n",
    "\n",
    "project_folder = os.getcwd()\n",
    "for dirname, _, filenames in os.walk(os.path.join(project_folder,'kaggle/input')):\n",
    "    for filename in filenames:\n",
    "        print(os.path.join(dirname, filename))\n",
    "\n",
    "# You can write up to 5GB to the current directory (/kaggle/working/) that gets preserved as output when you create a version using \"Save & Run All\" \n",
    "# You can also write temporary files to /kaggle/temp/, but they won't be saved outside of the current session"
   ]
  },
  {
   "cell_type": "code",
   "execution_count": 128,
   "metadata": {},
   "outputs": [],
   "source": [
    "import pandas as pd #imports Python Data Analysis Library\n",
    "\n",
    "df = pd.read_csv('/Users/haiho/ShopeeCodeLeague/ShopeeCodeLeague2020/1_ORDER-BRUSHING/kaggle/input/order_brush_order.csv')"
   ]
  },
  {
   "cell_type": "code",
   "execution_count": 129,
   "metadata": {},
   "outputs": [],
   "source": [
    "df.event_time = pd.to_datetime(df.event_time)"
   ]
  },
  {
   "cell_type": "markdown",
   "metadata": {},
   "source": [
    "# Submission format"
   ]
  },
  {
   "cell_type": "code",
   "execution_count": 270,
   "metadata": {},
   "outputs": [],
   "source": [
    "# Submission format\n",
    "import pandas as pd\n",
    "import numpy as np\n",
    "\n",
    "submission_shopid = pd.DataFrame(df.shopid.unique())\n",
    "submission_userid = pd.DataFrame(np.zeros(shape=submission_shopid.shape))\n",
    "submission = pd.DataFrame(columns = ['shopid', 'userid'])\n",
    "submission.shopid = df.shopid.unique()\n",
    "submission.userid = str(0)\n",
    "submission.to_csv(\"submission.csv\", header=True, index=False)"
   ]
  },
  {
   "cell_type": "code",
   "execution_count": 272,
   "metadata": {},
   "outputs": [
    {
     "data": {
      "text/html": [
       "<div>\n",
       "<style scoped>\n",
       "    .dataframe tbody tr th:only-of-type {\n",
       "        vertical-align: middle;\n",
       "    }\n",
       "\n",
       "    .dataframe tbody tr th {\n",
       "        vertical-align: top;\n",
       "    }\n",
       "\n",
       "    .dataframe thead th {\n",
       "        text-align: right;\n",
       "    }\n",
       "</style>\n",
       "<table border=\"1\" class=\"dataframe\">\n",
       "  <thead>\n",
       "    <tr style=\"text-align: right;\">\n",
       "      <th></th>\n",
       "      <th>shopid</th>\n",
       "      <th>userid</th>\n",
       "    </tr>\n",
       "  </thead>\n",
       "  <tbody>\n",
       "    <tr>\n",
       "      <th>0</th>\n",
       "      <td>6042309</td>\n",
       "      <td>0</td>\n",
       "    </tr>\n",
       "    <tr>\n",
       "      <th>1</th>\n",
       "      <td>104804492</td>\n",
       "      <td>0</td>\n",
       "    </tr>\n",
       "    <tr>\n",
       "      <th>2</th>\n",
       "      <td>8715449</td>\n",
       "      <td>0</td>\n",
       "    </tr>\n",
       "    <tr>\n",
       "      <th>3</th>\n",
       "      <td>190969466</td>\n",
       "      <td>0</td>\n",
       "    </tr>\n",
       "    <tr>\n",
       "      <th>4</th>\n",
       "      <td>2859407</td>\n",
       "      <td>0</td>\n",
       "    </tr>\n",
       "  </tbody>\n",
       "</table>\n",
       "</div>"
      ],
      "text/plain": [
       "      shopid userid\n",
       "0    6042309      0\n",
       "1  104804492      0\n",
       "2    8715449      0\n",
       "3  190969466      0\n",
       "4    2859407      0"
      ]
     },
     "execution_count": 272,
     "metadata": {},
     "output_type": "execute_result"
    }
   ],
   "source": [
    "submission.head()"
   ]
  },
  {
   "cell_type": "markdown",
   "metadata": {},
   "source": [
    "# Preprocessing"
   ]
  },
  {
   "cell_type": "code",
   "execution_count": 130,
   "metadata": {},
   "outputs": [],
   "source": [
    "df = df.sort_values(by=['event_time'])"
   ]
  },
  {
   "cell_type": "code",
   "execution_count": 133,
   "metadata": {},
   "outputs": [],
   "source": [
    "df['orderdate'] = [d.date() for d in df['event_time']]\n",
    "df['ordertime'] = [d.time() for d in df['event_time']]\n",
    "df['orderhour'] = [d.hour for d in df['ordertime']]"
   ]
  },
  {
   "cell_type": "code",
   "execution_count": 136,
   "metadata": {},
   "outputs": [
    {
     "data": {
      "text/html": [
       "<div>\n",
       "<style scoped>\n",
       "    .dataframe tbody tr th:only-of-type {\n",
       "        vertical-align: middle;\n",
       "    }\n",
       "\n",
       "    .dataframe tbody tr th {\n",
       "        vertical-align: top;\n",
       "    }\n",
       "\n",
       "    .dataframe thead th {\n",
       "        text-align: right;\n",
       "    }\n",
       "</style>\n",
       "<table border=\"1\" class=\"dataframe\">\n",
       "  <thead>\n",
       "    <tr style=\"text-align: right;\">\n",
       "      <th></th>\n",
       "      <th>orderid</th>\n",
       "      <th>shopid</th>\n",
       "      <th>userid</th>\n",
       "      <th>event_time</th>\n",
       "      <th>orderdate</th>\n",
       "      <th>ordertime</th>\n",
       "      <th>orderhour</th>\n",
       "    </tr>\n",
       "  </thead>\n",
       "  <tbody>\n",
       "    <tr>\n",
       "      <th>150060</th>\n",
       "      <td>31075200506751</td>\n",
       "      <td>6042309</td>\n",
       "      <td>97707522</td>\n",
       "      <td>2019-12-27 00:00:00</td>\n",
       "      <td>2019-12-27</td>\n",
       "      <td>00:00:00</td>\n",
       "      <td>0</td>\n",
       "    </tr>\n",
       "    <tr>\n",
       "      <th>25985</th>\n",
       "      <td>31075200506752</td>\n",
       "      <td>104804492</td>\n",
       "      <td>97707522</td>\n",
       "      <td>2019-12-27 00:00:00</td>\n",
       "      <td>2019-12-27</td>\n",
       "      <td>00:00:00</td>\n",
       "      <td>0</td>\n",
       "    </tr>\n",
       "    <tr>\n",
       "      <th>81020</th>\n",
       "      <td>31075200506753</td>\n",
       "      <td>8715449</td>\n",
       "      <td>97707522</td>\n",
       "      <td>2019-12-27 00:00:00</td>\n",
       "      <td>2019-12-27</td>\n",
       "      <td>00:00:00</td>\n",
       "      <td>0</td>\n",
       "    </tr>\n",
       "    <tr>\n",
       "      <th>146598</th>\n",
       "      <td>31075201870570</td>\n",
       "      <td>190969466</td>\n",
       "      <td>170182475</td>\n",
       "      <td>2019-12-27 00:00:02</td>\n",
       "      <td>2019-12-27</td>\n",
       "      <td>00:00:02</td>\n",
       "      <td>0</td>\n",
       "    </tr>\n",
       "    <tr>\n",
       "      <th>80355</th>\n",
       "      <td>31075205798264</td>\n",
       "      <td>2859407</td>\n",
       "      <td>12532131</td>\n",
       "      <td>2019-12-27 00:00:05</td>\n",
       "      <td>2019-12-27</td>\n",
       "      <td>00:00:05</td>\n",
       "      <td>0</td>\n",
       "    </tr>\n",
       "  </tbody>\n",
       "</table>\n",
       "</div>"
      ],
      "text/plain": [
       "               orderid     shopid     userid          event_time   orderdate  \\\n",
       "150060  31075200506751    6042309   97707522 2019-12-27 00:00:00  2019-12-27   \n",
       "25985   31075200506752  104804492   97707522 2019-12-27 00:00:00  2019-12-27   \n",
       "81020   31075200506753    8715449   97707522 2019-12-27 00:00:00  2019-12-27   \n",
       "146598  31075201870570  190969466  170182475 2019-12-27 00:00:02  2019-12-27   \n",
       "80355   31075205798264    2859407   12532131 2019-12-27 00:00:05  2019-12-27   \n",
       "\n",
       "       ordertime  orderhour  \n",
       "150060  00:00:00          0  \n",
       "25985   00:00:00          0  \n",
       "81020   00:00:00          0  \n",
       "146598  00:00:02          0  \n",
       "80355   00:00:05          0  "
      ]
     },
     "execution_count": 136,
     "metadata": {},
     "output_type": "execute_result"
    }
   ],
   "source": [
    "df.head()"
   ]
  },
  {
   "cell_type": "code",
   "execution_count": 287,
   "metadata": {
    "scrolled": true
   },
   "outputs": [
    {
     "name": "stdout",
     "output_type": "stream",
     "text": [
      "{147941492: '147478511&163220673&199110270&208806468&58009118&2812894&77645501&78274359&212480041&164098479&50499134&190222721&43652561&4769572&211429582&205951406&213906397&89835507&59282182&189029587&71026438&88732127&86875149&208806468&37434703&50499134&197551102&213526271&52097335&5333888&95619116&7616036&16950820&86051997&213787697&22184&164098479&205583383&86875149&166081737&208806468&52255254&80060796&13487830&205951406&7616036&154598501&52097335&205583383&198218978&3142265&203538523&3142265&9613337&210362283&195350861&2284151&208806468&9613337&3142265&19970394&206794371&88587531&197551102&23857471&52097335&84226482&12282583&58009118&45163392&199110270&190222721&113418397&43652561&3142265&3524519&55372731&1997501&9535411&213162186&203742758&206585991&50499134&101092594&103256866&3142265&48793634&113830512&164098479&205046026&186403294&205435395&107331095&207802408&29815158&104066552&19443866&23961096&52415138&80060796&3766486&208806468&7872248&30279967&55446317&112716544&52255254&70951516&7616036&76151932&126023923&192712485&8248454&15386904&164575130&176331393&2857083&16847937&19260741&36622590&52097335&73927480&80590651&192610446&81888626&164098479&206207184&80347087&99528346&159992534&89835507&159561395&21580908&8032878&98715548&144764900&209034704&11290324&106295774&214974604&82471735', 9374147: '148176353', 210197928: '52867898', 27476241: '174145893', 16246487: '214300427', 2831130: '15053804', 54615708: '2973390', 78837196: '78903959', 136564914: '178491887&178491887&178491887', 138810304: '58467478', 173508019: '132704747', 68609828: '183440131&183440131&183440131', 192785588: '94497233', 29583: '214495220', 27987240: '192785138', 137762841: '62080153', 162292584: '119654795', 100446829: '2434757', 12078788: '214588488', 145777302: '201343856', 58853808: '214623481', 76934: '190449497', 61556313: '47796836&173992146&194756996&137401370', 123548863: '131515076', 143613660: '67554410', 10206302: '95058664', 188546697: '31916119', 191449441: '191211430', 823357: '188942105', 73103155: '214628840', 187570150: '2677380', 18229789: '192400689', 195531: '214992524', 156883302: '188025647&76102350', 83366265: '118860287', 182630780: '8330029', 51960315: '131375087', 16001939: '205729485&205729485&205729485', 64909117: '157936293', 59617008: '80682958', 91799978: '15697974', 104278513: '80682958', 118548742: '80682958', 736620: '62618064', 204225676: '198662175', 99836251: '197470611', 42818: '170385453', 8996761: '215382704', 83234229: '181942741', 64394533: '194833170', 172439621: '1866916', 16680589: '102125116', 66391375: '194647522', 123401085: '12869645', 98481320: '124597967', 143281052: '33390271'}\n"
     ]
    }
   ],
   "source": [
    "a = df.groupby(['orderdate', 'orderhour', 'shopid'])['userid'].value_counts()\n",
    "suspicious_shops = {}\n",
    "for index, value in a.iteritems():\n",
    "    if value > 3:\n",
    "        suspicious_shopid = index[2]\n",
    "        suspicious_userid = index[3]\n",
    "        if suspicious_shopid not in suspicious_shops.keys():\n",
    "            suspicious_shops[suspicious_shopid]=str(suspicious_userid)\n",
    "        else:\n",
    "            suspicious_shops[suspicious_shopid]+=\"&\"+str(suspicious_userid)\n",
    "print(suspicious_shops)"
   ]
  },
  {
   "cell_type": "code",
   "execution_count": 288,
   "metadata": {},
   "outputs": [],
   "source": [
    "for index, value in submission.iterrows():\n",
    "    if value[0] in suspicious_shops.keys():\n",
    "        submission.iloc[index,1] = suspicious_shops[value[0]]"
   ]
  },
  {
   "cell_type": "code",
   "execution_count": 289,
   "metadata": {},
   "outputs": [
    {
     "data": {
      "text/html": [
       "<div>\n",
       "<style scoped>\n",
       "    .dataframe tbody tr th:only-of-type {\n",
       "        vertical-align: middle;\n",
       "    }\n",
       "\n",
       "    .dataframe tbody tr th {\n",
       "        vertical-align: top;\n",
       "    }\n",
       "\n",
       "    .dataframe thead th {\n",
       "        text-align: right;\n",
       "    }\n",
       "</style>\n",
       "<table border=\"1\" class=\"dataframe\">\n",
       "  <thead>\n",
       "    <tr style=\"text-align: right;\">\n",
       "      <th></th>\n",
       "      <th>shopid</th>\n",
       "      <th>userid</th>\n",
       "    </tr>\n",
       "  </thead>\n",
       "  <tbody>\n",
       "    <tr>\n",
       "      <th>0</th>\n",
       "      <td>6042309</td>\n",
       "      <td>0</td>\n",
       "    </tr>\n",
       "    <tr>\n",
       "      <th>1</th>\n",
       "      <td>104804492</td>\n",
       "      <td>0</td>\n",
       "    </tr>\n",
       "    <tr>\n",
       "      <th>2</th>\n",
       "      <td>8715449</td>\n",
       "      <td>9753706</td>\n",
       "    </tr>\n",
       "    <tr>\n",
       "      <th>3</th>\n",
       "      <td>190969466</td>\n",
       "      <td>0</td>\n",
       "    </tr>\n",
       "    <tr>\n",
       "      <th>4</th>\n",
       "      <td>2859407</td>\n",
       "      <td>0</td>\n",
       "    </tr>\n",
       "    <tr>\n",
       "      <th>...</th>\n",
       "      <td>...</td>\n",
       "      <td>...</td>\n",
       "    </tr>\n",
       "    <tr>\n",
       "      <th>95</th>\n",
       "      <td>33380999</td>\n",
       "      <td>0</td>\n",
       "    </tr>\n",
       "    <tr>\n",
       "      <th>96</th>\n",
       "      <td>68973461</td>\n",
       "      <td>0</td>\n",
       "    </tr>\n",
       "    <tr>\n",
       "      <th>97</th>\n",
       "      <td>163522251</td>\n",
       "      <td>0</td>\n",
       "    </tr>\n",
       "    <tr>\n",
       "      <th>98</th>\n",
       "      <td>32504026</td>\n",
       "      <td>10221040</td>\n",
       "    </tr>\n",
       "    <tr>\n",
       "      <th>99</th>\n",
       "      <td>84711731</td>\n",
       "      <td>0</td>\n",
       "    </tr>\n",
       "  </tbody>\n",
       "</table>\n",
       "<p>100 rows × 2 columns</p>\n",
       "</div>"
      ],
      "text/plain": [
       "       shopid    userid\n",
       "0     6042309         0\n",
       "1   104804492         0\n",
       "2     8715449   9753706\n",
       "3   190969466         0\n",
       "4     2859407         0\n",
       "..        ...       ...\n",
       "95   33380999         0\n",
       "96   68973461         0\n",
       "97  163522251         0\n",
       "98   32504026  10221040\n",
       "99   84711731         0\n",
       "\n",
       "[100 rows x 2 columns]"
      ]
     },
     "execution_count": 289,
     "metadata": {},
     "output_type": "execute_result"
    }
   ],
   "source": [
    "submission.head(100)"
   ]
  },
  {
   "cell_type": "code",
   "execution_count": 290,
   "metadata": {},
   "outputs": [],
   "source": [
    "submission.to_csv(\"submission.csv\", header=True, index=False)"
   ]
  }
 ],
 "metadata": {
  "kernelspec": {
   "display_name": "Python 3",
   "language": "python",
   "name": "python3"
  },
  "language_info": {
   "codemirror_mode": {
    "name": "ipython",
    "version": 3
   },
   "file_extension": ".py",
   "mimetype": "text/x-python",
   "name": "python",
   "nbconvert_exporter": "python",
   "pygments_lexer": "ipython3",
   "version": "3.7.5"
  }
 },
 "nbformat": 4,
 "nbformat_minor": 4
}
